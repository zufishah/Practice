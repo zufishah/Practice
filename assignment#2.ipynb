{
 "cells": [
  {
   "cell_type": "code",
   "execution_count": 2,
   "metadata": {},
   "outputs": [
    {
     "name": "stdout",
     "output_type": "stream",
     "text": [
      "enter a marks of first num5\n",
      "enter a marks of second num53\n",
      "enter a marks of third num8\n",
      "enter a marks of fourth num8\n",
      "enter a marks of fifth num8\n",
      "grade F\n"
     ]
    }
   ],
   "source": [
    "#1. Write a program which takes 5 inputs from user for different subject’smarks, total it and generate mark sheet using grades ?\n",
    "sub1=float(input(\"enter a marks of first num\"))\n",
    "sub2=float(input(\"enter a marks of second num\"))\n",
    "sub3=float(input(\"enter a marks of third num\"))\n",
    "sub4=float (input(\"enter a marks of fourth num\"))\n",
    "sub5=float(input(\"enter a marks of fifth num\"))\n",
    "avg=(sub1+sub2+sub3+sub4+sub5)/5\n",
    "if(avg>90):\n",
    "    print(\"grade A\")\n",
    "elif(avg>80):\n",
    "    print(\"grade B\")\n",
    "elif(avg>70):\n",
    "    print(\"grade C\")\n",
    "elif(avg>60):\n",
    "    print(\"grade D\")\n",
    "else:\n",
    "    print(\"grade F\")"
   ]
  },
  {
   "cell_type": "code",
   "execution_count": 4,
   "metadata": {},
   "outputs": [
    {
     "name": "stdout",
     "output_type": "stream",
     "text": [
      "enter a num46\n",
      "enter a even num\n"
     ]
    }
   ],
   "source": [
    "#2. Write a program which take input from user and identify that the givennumber is even or odd?\n",
    "a=int(input(\"enter a num\" ))\n",
    "b=(a % 2)\n",
    "if b>0:\n",
    "    print(\"enter a odd num\")\n",
    "else:\n",
    "    print(\"enter a even num\")"
   ]
  },
  {
   "cell_type": "code",
   "execution_count": 7,
   "metadata": {},
   "outputs": [
    {
     "name": "stdout",
     "output_type": "stream",
     "text": [
      "5\n"
     ]
    }
   ],
   "source": [
    "#3. Write a program which print the length of the list?\n",
    "a=[1,2,3,4,5]\n",
    "print(len(a))"
   ]
  },
  {
   "cell_type": "code",
   "execution_count": 3,
   "metadata": {},
   "outputs": [],
   "source": [
    "#4. Write a Python program to sum all the numeric items in a list?\n",
    "def sum(numbers):\n",
    "    total=0\n",
    "    for x in number:\n",
    "        total+=x\n",
    "        return total\n",
    "    print(sum(8,4,7,9,0))\n",
    "        "
   ]
  },
  {
   "cell_type": "code",
   "execution_count": 11,
   "metadata": {},
   "outputs": [
    {
     "name": "stdout",
     "output_type": "stream",
     "text": [
      "Enter a first num5\n",
      "Enter a second num7\n",
      "Enter a third num9\n",
      "9.0\n"
     ]
    }
   ],
   "source": [
    "#5. Write a Python program to get the largest number from a numeric list.\n",
    "a=float(input(\"Enter a first num\"))\n",
    "b=float(input(\"Enter a second num\"))\n",
    "c=float(input(\"Enter a third num\"))\n",
    "if (a>b)and (a>c):\n",
    "    largest=a\n",
    "elif(b>a)and(b>c):\n",
    "    largest=b\n",
    "else:\n",
    "    largest=c\n",
    "    print(largest)"
   ]
  },
  {
   "cell_type": "code",
   "execution_count": 19,
   "metadata": {},
   "outputs": [],
   "source": [
    "#6. Take a list, say for example this one:a = [1, 1, 2, 3, 5, 8, 13, 21, 34, 55, 89]and write a program that prints out all the elements of the list that areless than 5.\n",
    "a=[1,1,2,3,5,8,13,21,34,55,89]\n",
    "b=i\n",
    "if i<5:\n",
    "    print(i)"
   ]
  },
  {
   "cell_type": "code",
   "execution_count": null,
   "metadata": {},
   "outputs": [],
   "source": []
  }
 ],
 "metadata": {
  "kernelspec": {
   "display_name": "Python 3",
   "language": "python",
   "name": "python3"
  },
  "language_info": {
   "codemirror_mode": {
    "name": "ipython",
    "version": 3
   },
   "file_extension": ".py",
   "mimetype": "text/x-python",
   "name": "python",
   "nbconvert_exporter": "python",
   "pygments_lexer": "ipython3",
   "version": "3.7.3"
  }
 },
 "nbformat": 4,
 "nbformat_minor": 2
}
