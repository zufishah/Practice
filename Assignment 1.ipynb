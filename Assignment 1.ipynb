{
 "cells": [
  {
   "cell_type": "code",
   "execution_count": 2,
   "metadata": {},
   "outputs": [
    {
     "name": "stdout",
     "output_type": "stream",
     "text": [
      "twinkle, twinkle, little star,\n",
      "\t How I wonder what you are!\n",
      "\t\t Up above the world so high,\n",
      "\t\t Like a diomand in the sky.\n",
      " Twinkle, twinkle, little star,\n",
      "\t How I wonder what you are!\n"
     ]
    }
   ],
   "source": [
    "# Q.1 Write a Python program to print the following string in a specific format(see the output) \n",
    "print(\"twinkle, twinkle, little star,\\n\\t How I wonder what you are!\\n\\t\\t Up above the world so high,\\n\\t\\t Like a diomand in the sky.\\n Twinkle, twinkle, little star,\\n\\t How I wonder what you are!\")"
   ]
  },
  {
   "cell_type": "code",
   "execution_count": 3,
   "metadata": {},
   "outputs": [
    {
     "name": "stdout",
     "output_type": "stream",
     "text": [
      "python version\n",
      "3.7.3 (default, Apr 24 2019, 15:29:51) [MSC v.1915 64 bit (AMD64)]\n"
     ]
    }
   ],
   "source": [
    "# Q.2 Write a Python program to print the following string in a specific format(see the output)\n",
    "import sys\n",
    "print(\"python version\")\n",
    "print(sys.version)"
   ]
  },
  {
   "cell_type": "code",
   "execution_count": 4,
   "metadata": {},
   "outputs": [
    {
     "name": "stdout",
     "output_type": "stream",
     "text": [
      "current time : \n",
      "05/11/19 12:18:57\n"
     ]
    }
   ],
   "source": [
    "# Q.3 Write a Python program to display the current date and time\n",
    "import datetime\n",
    "now =datetime.datetime.now()\n",
    "print(\"current time : \")\n",
    "print(now.strftime(\"%d/%m/%y %H:%M:%S\"))"
   ]
  },
  {
   "cell_type": "code",
   "execution_count": 5,
   "metadata": {},
   "outputs": [
    {
     "name": "stdout",
     "output_type": "stream",
     "text": [
      "please enter the radius of circle : 5\n",
      "radius is: 5.0\n",
      "Area_circle is: 78.53981633974483\n"
     ]
    }
   ],
   "source": [
    "# Q.4 Write a Python program which accepts the radius of a circle from the user and compute the area\n",
    "from math import pi\n",
    "radius=float(input(\"please enter the radius of circle : \"))\n",
    "print(\"radius is:\", radius)\n",
    "Area_circle=pi*(radius)**2\n",
    "print(\"Area_circle is:\", Area_circle)"
   ]
  },
  {
   "cell_type": "code",
   "execution_count": 6,
   "metadata": {},
   "outputs": [
    {
     "name": "stdout",
     "output_type": "stream",
     "text": [
      "input your first namezufisha\n",
      "input your last namerehman\n",
      "rehman zufisha\n"
     ]
    }
   ],
   "source": [
    "#Q.5 Write a Python program which accepts the user's first and last name and print them in reverse order with a space between them.\n",
    "x = input(\"input your first name\")\n",
    "y = input(\"input your last name\")\n",
    "print(y,x)"
   ]
  },
  {
   "cell_type": "code",
   "execution_count": 7,
   "metadata": {},
   "outputs": [
    {
     "name": "stdout",
     "output_type": "stream",
     "text": [
      "enter the first number2\n",
      "enter the second number4\n",
      "6\n"
     ]
    }
   ],
   "source": [
    "#Q.6 Write a python program which takes two inputs from user and print them addition\n",
    "a = int(input(\"enter the first number\"))\n",
    "b = int(input(\"enter the second number\"))\n",
    "sum = a+b\n",
    "print(sum)"
   ]
  },
  {
   "cell_type": "code",
   "execution_count": null,
   "metadata": {},
   "outputs": [],
   "source": []
  }
 ],
 "metadata": {
  "kernelspec": {
   "display_name": "Python 3",
   "language": "python",
   "name": "python3"
  },
  "language_info": {
   "codemirror_mode": {
    "name": "ipython",
    "version": 3
   },
   "file_extension": ".py",
   "mimetype": "text/x-python",
   "name": "python",
   "nbconvert_exporter": "python",
   "pygments_lexer": "ipython3",
   "version": "3.7.3"
  }
 },
 "nbformat": 4,
 "nbformat_minor": 2
}
